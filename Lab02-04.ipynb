{
 "cells": [
  {
   "cell_type": "markdown",
   "metadata": {
    "dotnet_interactive": {
     "language": "csharp"
    },
    "polyglot_notebook": {
     "kernelName": "csharp"
    }
   },
   "source": [
    "# Lab 2.4 Magic command"
   ]
  },
  {
   "cell_type": "markdown",
   "metadata": {},
   "source": [
    "เนื้อหา https://github.com/dotnet/interactive/blob/main/docs/magic-commands.md"
   ]
  },
  {
   "cell_type": "markdown",
   "metadata": {},
   "source": [
    "Magic command เป็นคำสั่งพิเศษที่สามารถกำหนดเงื่อนไขต่างๆ ใน cell  \n",
    "แนวคิดของคำสั่ง Magic command ได้ยืมมาจาก  Jupyter แต่จะมีการเปลี่ยนแปลงเล็กน้อยในไวยากรณ์เพื่อรองรับภาษา .NET \n",
    "\n",
    "> ลักษณะเฉพาะของ Magic command\n",
    "\n",
    "1. จะต้องเริ่มต้นที่จุดเริ่มต้นของบรรทัดเสมอและต้องเขียนให้จบในบรรทัดเดียว \n",
    "2. ต้องขึ้นต้นด้วย #! หรือ #  (คำสั่ง # จะเกิดขึ้นเฉพาะเมื่อมีการรวมพฤติกรรมเข้ากับคำสั่งคอมไพเลอร์เฉพาะภาษา เช่น #r )\n",
    "3. Magic command ของ polyglot ต่างจากของ Jupyter ตรงที่ไม่มีการแยกความแตกต่างระหว่าง \"cell magic\" กับ \"line magic\""
   ]
  },
  {
   "cell_type": "markdown",
   "metadata": {},
   "source": [
    "> ตัวอย่าง คำสั่ง #!time \n",
    "\n",
    "\n",
    "คำสั่ง #!time  ถูกใช้เพื่อวัดเวลาในการทำงานของคำสั่งหรือโปรแกรม\n",
    "\n",
    "ให้เขียน Code ต่อไปนี้ในภาษา Csharp แล้วรัน เพื่อวัดเวลาในการประมวลผลของโปรแกรม"
   ]
  },
  {
   "cell_type": "markdown",
   "metadata": {},
   "source": [
    "``` csharp\n",
    "#!csharp\n",
    "#!time\n",
    "await Task.Delay(1000);\n",
    "```"
   ]
  },
  {
   "cell_type": "markdown",
   "metadata": {},
   "source": [
    "## Global magic commands\n",
    "\n",
    "| Command                               | Behavior                               \n",
    "|---------------------------------------|----------------------------------------------------------------------\n",
    "| `#!about`                             | แสดงข้อมูลเกี่ยวกับเวอร์ชันของเคอร์เนล\n",
    "| [`#!import`](import-magic-command.md) | รันโค้ดจากสมุดบันทึกอื่นหรือไฟล์โค้ดต้นฉบับ\n",
    "| `#!lsmagic`                           | แสดงรายการคำสั่ง magic command ที่มีอยู่ (รวมถึงคำสั่งที่อาจได้รับการติดตั้งผ่านส่วนขยาย)\n",
    "| `#!markdown`                          | ระบุว่าโค้ดต่อไปนี้เป็น Markdown ซึ่งสามารถแสดงผลเป็น HTML ในเบราว์เซอร์ได้โดยตรง\n",
    "| [`#!share`](variable-sharing.md)      | แชร์ตัวแปรจากซับเคอร์เนลที่ระบุอื่น (รวมถึงซับเคอร์เนลที่จัดเก็บโดยใช้ #!value)\n",
    "| [`#!set`](variable-sharing.md)        | ตั้งค่าในเคอร์เนลปัจจุบัน (รวมถึงการสนับสนุนสำหรับอินพุตและตัวอักษร)\n",
    "| `#!time`                              | วัดเวลาการดำเนินการของโค้ด\n",
    "| `#!connect`                           | เปิดใช้งานการเชื่อมต่อเคอร์เนลเพิ่มเติม"
   ]
  },
  {
   "cell_type": "markdown",
   "metadata": {},
   "source": [
    "## Kernel chooser magic commands\n",
    "| Command                               | Behavior                               \n",
    "|---------------------------------------|----------------------------------------------------------------------\n",
    "| `#!csharp` (also: `#!c#`, `#!C#`)     | ระบุว่าโค้ดต่อไปนี้เป็น C# (โดยเฉพาะอย่างยิ่งภาษาสคริปต์ C#)\n",
    "| `#!fsharp` (also: `#!f#`, `#!F#`)     | ระบุว่าโค้ดต่อไปนี้เป็น  F#.\n",
    "| `#!html`                              | ระบุว่าโค้ดต่อไปนี้เป็น HTML ที่สามารถแสดงผลในเบราว์เซอร์ได้โดยตรง\n",
    "| `#!javascript` (also: `#!js`)         | ระบุว่าโค้ดต่อไปนี้เป็น JavaScript ที่ต้องดำเนินการในเบราว์เซอร์\n",
    "| `#!kql`                               | ให้ข้อมูลเกี่ยวกับวิธีการเพิ่มเคอร์เนล KQL (Kusto Query Language) เฉพาะการเชื่อมต่อลงในเซสชันแบบโต้ตอบ\n",
    "| `#!mermaid`                           | ระบุว่าโค้ดต่อไปนี้คือ Mermaid ผลลัพธ์จะแสดงออกมาเป็นภาพ\n",
    "| `#!pwsh` (also: `#!powershell`)       | ระบุว่าโค้ดต่อไปนี้คือ PowerShell\n",
    "| `#!sql`                               | ให้ข้อมูลเกี่ยวกับวิธีการเพิ่มเคอร์เนล SQL เฉพาะการเชื่อมต่อลงในเซสชันแบบโต้ตอบ\n",
    "| `#!value`                             | เก็บค่า (จากข้อความที่ป้อน จากไฟล์ หรือ จาก URL) ซึ่งสามารถเข้าถึงได้โดยใช้ #!share"
   ]
  },
  {
   "cell_type": "markdown",
   "metadata": {},
   "source": [
    "## ตัวอย่าง การเรียกใช้ mermaid เพื่อวาดไดอะแกรม"
   ]
  },
  {
   "cell_type": "markdown",
   "metadata": {},
   "source": [
    "อ้างอิง https://mermaid.js.org/intro/"
   ]
  },
  {
   "cell_type": "markdown",
   "metadata": {},
   "source": [
    "> สร้าง code cell ใหม่ แล้วพิมพ์ข้อความต่อไปนี้ลงไปใน cell แล้วกด Ctrl + Enter เพื่อดูผลลัพธ์"
   ]
  },
  {
   "cell_type": "markdown",
   "metadata": {},
   "source": [
    "```mermaid\n",
    "#!mermaid\n",
    "pie title NETFLIX\n",
    "         \"Time spent looking for movie\" : 90\n",
    "         \"Time spent watching it\" : 10\n",
    "```"
   ]
  },
  {
   "cell_type": "markdown",
   "metadata": {},
   "source": [
    "> ตัวอย่าง การวาด Flow chart ใน mermaid\n",
    "\n",
    "อ้างอิง https://mermaid.js.org/syntax/flowchart.html"
   ]
  },
  {
   "cell_type": "markdown",
   "metadata": {},
   "source": [
    "```mermaid\n",
    "#!mermaid\n",
    "flowchart TD\n",
    "    A[Start] --> B{Is it?}\n",
    "    B -->|Yes| C[OK]\n",
    "    C --> D[Rethink]\n",
    "    D --> B\n",
    "    B ---->|No| E[End]\n",
    "```"
   ]
  },
  {
   "cell_type": "markdown",
   "metadata": {},
   "source": [
    "## การบ้าน\n",
    "\n",
    "ให้สร้าง notebook แล้ววาดไดอะแกรมต่อไปนี้โดยใช้ mermaid\n",
    "\n",
    "1. flow chart สำหรับคำสั่ง if\n",
    "\n",
    "![if](./Images/if.svg)\n",
    "\n",
    "2. flow chart สำหรับคำสั่ง if-else\n",
    "\n",
    "![if-else](./Images/if-else.svg)\n",
    "\n",
    "3. flow chart สำหรับคำสั่ง if-else-if\n",
    "\n",
    "\n",
    "![if-else-if](./Images/if-else-if.svg)\n",
    "\n",
    "4. flow chart สำหรับคำสั่ง do-while\n",
    "\n",
    "![do-while](./Images/do-while.svg)\n",
    "\n",
    "\n",
    "5. flow chart สำหรับคำสั่ง for\n",
    "\n",
    "![for](./Images/for.svg)\n"
   ]
  },
  {
   "cell_type": "markdown",
   "metadata": {},
   "source": [
    "ข้อที่1"
   ]
  },
  {
   "cell_type": "code",
   "execution_count": null,
   "metadata": {},
   "outputs": [
    {
     "data": {
      "text/html": [
       "<div class=\"mermaidMarkdownContainer\" style=\"background-color:white\">\r\n",
       "<link rel=\"stylesheet\" href=\"https://cdnjs.cloudflare.com/ajax/libs/font-awesome/6.2.0/css/all.min.css\">\r\n",
       "<div id=\"3c9f915771134f4f91fbcc4f71ae33b0\"></div>\r\n",
       "<script type=\"module\">\r\n",
       "\r\n",
       "            import mermaid from 'https://cdn.jsdelivr.net/npm/mermaid@10.6.1/dist/mermaid.esm.min.mjs';\r\n",
       "            let renderTarget = document.getElementById('3c9f915771134f4f91fbcc4f71ae33b0');\r\n",
       "            try {\r\n",
       "                const {svg, bindFunctions} = await mermaid.mermaidAPI.render( \r\n",
       "                    'mermaid_3c9f915771134f4f91fbcc4f71ae33b0', \r\n",
       "                    `flowchart TD\r\n",
       "    A[Start] --> B{conditional check}\r\n",
       "    B -- true --> C[Statements]\r\n",
       "    B -- false --> D(( ))\r\n",
       "    C --> D\r\n",
       "    D --> E[end]`);\r\n",
       "                renderTarget.innerHTML = svg;\r\n",
       "                bindFunctions?.(renderTarget);\r\n",
       "            }\r\n",
       "            catch (error) {\r\n",
       "                console.log(error);\r\n",
       "            }\r\n",
       "</script>\r\n",
       "</div>\r\n"
      ]
     },
     "metadata": {},
     "output_type": "display_data"
    }
   ],
   "source": [
    "#!mermaid\n",
    "flowchart TD\n",
    "    A[Start] --> B{conditional check}\n",
    "    B -- true --> C[Statements]\n",
    "    B -- false --> D(( ))\n",
    "    C --> D\n",
    "    D --> E[end]"
   ]
  },
  {
   "cell_type": "markdown",
   "metadata": {},
   "source": [
    "ข้อที่ 2"
   ]
  },
  {
   "cell_type": "code",
   "execution_count": null,
   "metadata": {
    "dotnet_interactive": {
     "language": "mermaid"
    },
    "polyglot_notebook": {
     "kernelName": "mermaid"
    }
   },
   "outputs": [
    {
     "data": {
      "text/html": [
       "<div class=\"mermaidMarkdownContainer\" style=\"background-color:white\">\r\n",
       "<link rel=\"stylesheet\" href=\"https://cdnjs.cloudflare.com/ajax/libs/font-awesome/6.2.0/css/all.min.css\">\r\n",
       "<div id=\"9ac58ae80b8b40fa9bc2f14aa88fb588\"></div>\r\n",
       "<script type=\"module\">\r\n",
       "\r\n",
       "            import mermaid from 'https://cdn.jsdelivr.net/npm/mermaid@10.6.1/dist/mermaid.esm.min.mjs';\r\n",
       "            let renderTarget = document.getElementById('9ac58ae80b8b40fa9bc2f14aa88fb588');\r\n",
       "            try {\r\n",
       "                const {svg, bindFunctions} = await mermaid.mermaidAPI.render( \r\n",
       "                    'mermaid_9ac58ae80b8b40fa9bc2f14aa88fb588', \r\n",
       "                    `flowchart TD\r\n",
       "    G[start] --> A\r\n",
       "    A{Condition Check} -->|true| B[Statements]\r\n",
       "    A -->|false| C[Statements]\r\n",
       "    O(( )) --> D((End))\r\n",
       "    C --> O\r\n",
       "    B --> O`);\r\n",
       "                renderTarget.innerHTML = svg;\r\n",
       "                bindFunctions?.(renderTarget);\r\n",
       "            }\r\n",
       "            catch (error) {\r\n",
       "                console.log(error);\r\n",
       "            }\r\n",
       "</script>\r\n",
       "</div>\r\n"
      ]
     },
     "metadata": {},
     "output_type": "display_data"
    }
   ],
   "source": [
    "#!mermaid\n",
    "flowchart TD\n",
    "    G[start] --> A\n",
    "    A{Condition Check} -->|true| B[Statements]\n",
    "    A -->|false| C[Statements]\n",
    "    O(( )) --> D((End))\n",
    "    C --> O\n",
    "    B --> O"
   ]
  },
  {
   "cell_type": "markdown",
   "metadata": {},
   "source": [
    "ข้อที่ 3"
   ]
  },
  {
   "cell_type": "code",
   "execution_count": null,
   "metadata": {},
   "outputs": [
    {
     "data": {
      "text/html": [
       "<div class=\"mermaidMarkdownContainer\" style=\"background-color:white\">\r\n",
       "<link rel=\"stylesheet\" href=\"https://cdnjs.cloudflare.com/ajax/libs/font-awesome/6.2.0/css/all.min.css\">\r\n",
       "<div id=\"3e079c849e054421806c48ebb5cb4cb1\"></div>\r\n",
       "<script type=\"module\">\r\n",
       "\r\n",
       "            import mermaid from 'https://cdn.jsdelivr.net/npm/mermaid@10.6.1/dist/mermaid.esm.min.mjs';\r\n",
       "            let renderTarget = document.getElementById('3e079c849e054421806c48ebb5cb4cb1');\r\n",
       "            try {\r\n",
       "                const {svg, bindFunctions} = await mermaid.mermaidAPI.render( \r\n",
       "                    'mermaid_3e079c849e054421806c48ebb5cb4cb1', \r\n",
       "                    `flowchart TD\r\n",
       "A[start] --> B{Condition Check}\r\n",
       "    B -->|Ture| C[Statements]\r\n",
       "    C --> J(( ))\r\n",
       "    B -->|false| D{Condition Check}\r\n",
       "    D -->|Ture| E[Statements]\r\n",
       "    E --> K(( ))\r\n",
       "    D -->|false| F{Condition Check}\r\n",
       "    F -->|Ture| G[Statements]\r\n",
       "    G --> L(( ))\r\n",
       "    F -->|false| H[Statements]\r\n",
       "    J --> I((End))\r\n",
       "    K --> J\r\n",
       "    L --> K\r\n",
       "    H --> L`);\r\n",
       "                renderTarget.innerHTML = svg;\r\n",
       "                bindFunctions?.(renderTarget);\r\n",
       "            }\r\n",
       "            catch (error) {\r\n",
       "                console.log(error);\r\n",
       "            }\r\n",
       "</script>\r\n",
       "</div>\r\n"
      ]
     },
     "metadata": {},
     "output_type": "display_data"
    }
   ],
   "source": [
    "#!mermaid\n",
    "flowchart TD\n",
    "A[start] --> B{Condition Check}\n",
    "    B -->|Ture| C[Statements]\n",
    "    C --> J(( ))\n",
    "    B -->|false| D{Condition Check}\n",
    "    D -->|Ture| E[Statements]\n",
    "    E --> K(( ))\n",
    "    D -->|false| F{Condition Check}\n",
    "    F -->|Ture| G[Statements]\n",
    "    G --> L(( ))\n",
    "    F -->|false| H[Statements]\n",
    "    J --> I((End))\n",
    "    K --> J\n",
    "    L --> K\n",
    "    H --> L"
   ]
  },
  {
   "cell_type": "markdown",
   "metadata": {},
   "source": [
    "ข้อที่ 4"
   ]
  },
  {
   "cell_type": "code",
   "execution_count": null,
   "metadata": {},
   "outputs": [
    {
     "data": {
      "text/html": [
       "<div class=\"mermaidMarkdownContainer\" style=\"background-color:white\">\r\n",
       "<link rel=\"stylesheet\" href=\"https://cdnjs.cloudflare.com/ajax/libs/font-awesome/6.2.0/css/all.min.css\">\r\n",
       "<div id=\"a9b5447d336749d08bdf9d075d239a67\"></div>\r\n",
       "<script type=\"module\">\r\n",
       "\r\n",
       "            import mermaid from 'https://cdn.jsdelivr.net/npm/mermaid@10.6.1/dist/mermaid.esm.min.mjs';\r\n",
       "            let renderTarget = document.getElementById('a9b5447d336749d08bdf9d075d239a67');\r\n",
       "            try {\r\n",
       "                const {svg, bindFunctions} = await mermaid.mermaidAPI.render( \r\n",
       "                    'mermaid_a9b5447d336749d08bdf9d075d239a67', \r\n",
       "                    `flowchart TD\r\n",
       "    A[start] --> B[Statements]\r\n",
       "    B --> C{Condition Check}\r\n",
       "    C --> |true| A\r\n",
       "    C --> |false| D((End))`);\r\n",
       "                renderTarget.innerHTML = svg;\r\n",
       "                bindFunctions?.(renderTarget);\r\n",
       "            }\r\n",
       "            catch (error) {\r\n",
       "                console.log(error);\r\n",
       "            }\r\n",
       "</script>\r\n",
       "</div>\r\n"
      ]
     },
     "metadata": {},
     "output_type": "display_data"
    }
   ],
   "source": [
    "#!mermaid\n",
    "flowchart TD\n",
    "    A[start] --> B[Statements]\n",
    "    B --> C{Condition Check}\n",
    "    C --> |true| A\n",
    "    C --> |false| D((End))"
   ]
  },
  {
   "cell_type": "markdown",
   "metadata": {},
   "source": [
    "ข้อที่ 5"
   ]
  },
  {
   "cell_type": "code",
   "execution_count": null,
   "metadata": {},
   "outputs": [
    {
     "data": {
      "text/html": [
       "<div class=\"mermaidMarkdownContainer\" style=\"background-color:white\">\r\n",
       "<link rel=\"stylesheet\" href=\"https://cdnjs.cloudflare.com/ajax/libs/font-awesome/6.2.0/css/all.min.css\">\r\n",
       "<div id=\"effa208cbaaf49979a2f770aad83dc26\"></div>\r\n",
       "<script type=\"module\">\r\n",
       "\r\n",
       "            import mermaid from 'https://cdn.jsdelivr.net/npm/mermaid@10.6.1/dist/mermaid.esm.min.mjs';\r\n",
       "            let renderTarget = document.getElementById('effa208cbaaf49979a2f770aad83dc26');\r\n",
       "            try {\r\n",
       "                const {svg, bindFunctions} = await mermaid.mermaidAPI.render( \r\n",
       "                    'mermaid_effa208cbaaf49979a2f770aad83dc26', \r\n",
       "                    `flowchart TD\r\n",
       "    A[start] --> B[initialization]\r\n",
       "    B --> J(( ))\r\n",
       "    J --> C{Condition Check}\r\n",
       "    C --> |true| D[Statements]\r\n",
       "    D --> F[Update]\r\n",
       "    F --> J\r\n",
       "    C --> |false| E((End))`);\r\n",
       "                renderTarget.innerHTML = svg;\r\n",
       "                bindFunctions?.(renderTarget);\r\n",
       "            }\r\n",
       "            catch (error) {\r\n",
       "                console.log(error);\r\n",
       "            }\r\n",
       "</script>\r\n",
       "</div>\r\n"
      ]
     },
     "metadata": {},
     "output_type": "display_data"
    }
   ],
   "source": [
    "#!mermaid\n",
    "flowchart TD\n",
    "    A[start] --> B[initialization]\n",
    "    B --> J(( ))\n",
    "    J --> C{Condition Check}\n",
    "    C --> |true| D[Statements]\n",
    "    D --> F[Update]\n",
    "    F --> J\n",
    "    C --> |false| E((End)) "
   ]
  }
 ],
 "metadata": {
  "kernelspec": {
   "display_name": ".NET (C#)",
   "language": "C#",
   "name": ".net-csharp"
  },
  "polyglot_notebook": {
   "kernelInfo": {
    "defaultKernelName": "csharp",
    "items": [
     {
      "aliases": [],
      "languageName": "csharp",
      "name": "csharp"
     }
    ]
   }
  }
 },
 "nbformat": 4,
 "nbformat_minor": 2
}
