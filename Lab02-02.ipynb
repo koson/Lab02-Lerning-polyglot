{
 "cells": [
  {
   "cell_type": "markdown",
   "metadata": {},
   "source": [
    "# Lab 2.1 การสร้าง dotnet console project"
   ]
  },
  {
   "cell_type": "markdown",
   "metadata": {},
   "source": [
    "ข้อดีของการใช้ polyglot คือเราสามารถใช้คำสั่ง powershell (ของวินโดวส์) เพื่อสร้าง project ได้จาก notebook \n",
    "\n",
    "หมายเหตุ สำหรับนักศึกษาที่ใช้ระบบปฏิบัติการที่ไม่ใช้ notebook ให้เปิด terminal แล้วพิมพ์คำสั่งตามใบงานนี้ จะได้ผลลัพธ์เช่นเดียวกัน"
   ]
  },
  {
   "cell_type": "markdown",
   "metadata": {},
   "source": [
    "## การสร้างและรัน dotnet console project ด้วย powershell\n",
    "###  พิมพ์ code ต่อไปนี้ ลงใน cell ของ powershell ครั้งละบรรทัด เพื่อสร้างและรันโปรเจค\n",
    "\n",
    "1. คำสั่ง `dotnet new console -n HelloWorld -o HelloWorld` \n",
    "   \n",
    "คำสั่ง/options |ความหมาย\n",
    "--|--\n",
    "   `dotnet new console`  | สร้าง  project  ใหม่เป็น console project\n",
    "   `-n HelloWorld`  | ระบุชื่อ project\n",
    "   `-o HelloWorld`  | ระบุ folder ของ project \n",
    "\n",
    "หมายเหตุ การที่ไม่สามารถสร้าง project นั้น อาจจะเกิดจากการที่มี folder  ของ project นั้นอยู่ที่นั่นแล้ว ถ้าเป็นเช่นนั้นให้ลบออกหรือย้ายไปไว้ในที่อื่นก่อน\n",
    " \n"
   ]
  },
  {
   "cell_type": "code",
   "execution_count": null,
   "metadata": {
    "dotnet_interactive": {
     "language": "pwsh"
    },
    "polyglot_notebook": {
     "kernelName": "pwsh"
    }
   },
   "outputs": [
    {
     "name": "stdout",
     "output_type": "stream",
     "text": [
      "The template \"Console App\" was created successfully.\n",
      "\n",
      "Processing post-creation actions...\n",
      "Restoring D:\\Lab02\\Lab02-Lerning-polyglot\\HelloWorld`\\HelloWorld.csproj:\n",
      "  Determining projects to restore...\n",
      "  Restored D:\\Lab02\\Lab02-Lerning-polyglot\\HelloWorld`\\HelloWorld.csproj (in 740 ms).\n",
      "Restore succeeded.\n",
      "\n",
      "\n"
     ]
    }
   ],
   "source": [
    "`dotnet new console -n HelloWorld -o HelloWorld`"
   ]
  },
  {
   "cell_type": "markdown",
   "metadata": {},
   "source": [
    "2. ตรวจสอบให้แน่ใจว่า dotnet ได้สร้าง folder ของโปรเจคไว้ในตำแหน่งที่กำหนดแล้ว\n",
    "   \n",
    "   โดยการเรียก  terminal แล้วพิมพ์คำสั่ง `dir` หรือดูใน file explorer   "
   ]
  },
  {
   "cell_type": "code",
   "execution_count": null,
   "metadata": {
    "dotnet_interactive": {
     "language": "pwsh"
    },
    "polyglot_notebook": {
     "kernelName": "pwsh"
    }
   },
   "outputs": [
    {
     "name": "stdout",
     "output_type": "stream",
     "text": [
      "\n",
      "    Directory: D:\\Lab02\\Lab02-Lerning-polyglot\n",
      "\n",
      "\u001b[32;1mMode   \u001b[0m\u001b[32;1m              LastWriteTime\u001b[0m \u001b[32;1;3m        Length\u001b[0m\u001b[32;1m Name\u001b[0m\n",
      "\u001b[32;1m----   \u001b[0m \u001b[32;1m             -------------\u001b[0m \u001b[32;1m        ------\u001b[0m \u001b[32;1m----\u001b[0m\n",
      "d----           12/6/2024  3:37 PM                \u001b[44;1mHelloWorld`\u001b[0m\n",
      "d----           12/6/2024  3:31 PM                \u001b[44;1mImages\u001b[0m\n",
      "-a---           12/6/2024  3:31 PM             68 .gitattributes\n",
      "-a---           12/6/2024  3:31 PM           7258 .gitignore\n",
      "-a---           12/6/2024  3:31 PM           2591 Lab02-01.ipynb\n",
      "-a---           12/6/2024  3:38 PM           6661 Lab02-02.ipynb\n",
      "-a---           12/6/2024  3:31 PM           3078 Lab02-03.ipynb\n",
      "-a---           12/6/2024  3:31 PM           9785 Lab02-04.ipynb\n",
      "-a---           12/6/2024  3:31 PM           1083 LICENSE\n",
      "\n"
     ]
    }
   ],
   "source": [
    "dir"
   ]
  },
  {
   "cell_type": "markdown",
   "metadata": {},
   "source": [
    "3. เปลี่ยนเส้นทางเข้าไปยัง folder ที่ถูกสร้างขึ้น  `cd HelloWorld`"
   ]
  },
  {
   "cell_type": "code",
   "execution_count": null,
   "metadata": {
    "dotnet_interactive": {
     "language": "pwsh"
    },
    "polyglot_notebook": {
     "kernelName": "pwsh"
    }
   },
   "outputs": [
    {
     "name": "stdout",
     "output_type": "stream",
     "text": [
      "cd HelloWorld\r\n"
     ]
    }
   ],
   "source": [
    "'cd HelloWorld'"
   ]
  },
  {
   "cell_type": "markdown",
   "metadata": {},
   "source": [
    "4. พิมพ์ `dotnet build`"
   ]
  },
  {
   "cell_type": "code",
   "execution_count": null,
   "metadata": {
    "dotnet_interactive": {
     "language": "pwsh"
    },
    "polyglot_notebook": {
     "kernelName": "pwsh"
    }
   },
   "outputs": [
    {
     "name": "stdout",
     "output_type": "stream",
     "text": [
      "MSBuild version 17.8.3+195e7f5a3 for .NET\n",
      "  Determining projects to restore...\n",
      "  All projects are up-to-date for restore.\n",
      "  HelloWorld -> D:\\Lab02\\Lab02-Lerning-polyglot\\HelloWorld`\\bin\\Debug\\net8.0\\HelloWorld.dll\n",
      "\n",
      "Build succeeded.\n",
      "    0 Warning(s)\n",
      "    0 Error(s)\n",
      "\n",
      "Time Elapsed 00:00:07.79\n"
     ]
    }
   ],
   "source": [
    "dotnet build"
   ]
  },
  {
   "cell_type": "markdown",
   "metadata": {},
   "source": [
    "5. พิมพ์ `dotnet run` เพื่อดูผลการทำงานของโปรแกรม"
   ]
  },
  {
   "cell_type": "code",
   "execution_count": null,
   "metadata": {
    "dotnet_interactive": {
     "language": "pwsh"
    },
    "polyglot_notebook": {
     "kernelName": "pwsh"
    }
   },
   "outputs": [
    {
     "name": "stdout",
     "output_type": "stream",
     "text": [
      "Hello, Rapee!\r\n"
     ]
    }
   ],
   "source": [
    "dotnet run"
   ]
  },
  {
   "cell_type": "markdown",
   "metadata": {},
   "source": [
    "6. เข้าไปในไฟล์ Program.cs ของโปรเจค HelloWorld\n",
    "7. แก้ไขบรรทัดที่ 2  `Console.WriteLine(\"Hello, World!\");` ให้เป็นข้อความอื่น เช่น `\"Hello, <ชื่อของนักศึกษา>!\"`\n",
    "8. พิมพ์ `dotnet build`"
   ]
  },
  {
   "cell_type": "code",
   "execution_count": null,
   "metadata": {
    "dotnet_interactive": {
     "language": "pwsh"
    },
    "polyglot_notebook": {
     "kernelName": "pwsh"
    }
   },
   "outputs": [
    {
     "name": "stdout",
     "output_type": "stream",
     "text": [
      "MSBuild version 17.8.3+195e7f5a3 for .NET\n",
      "  Determining projects to restore...\n",
      "  All projects are up-to-date for restore.\n",
      "  HelloWorld -> D:\\Lab02\\Lab02-Lerning-polyglot\\HelloWorld`\\bin\\Debug\\net8.0\\HelloWorld.dll\n",
      "\n",
      "Build succeeded.\n",
      "    0 Warning(s)\n",
      "    0 Error(s)\n",
      "\n",
      "Time Elapsed 00:00:01.76\n"
     ]
    }
   ],
   "source": [
    "dotnet build"
   ]
  },
  {
   "cell_type": "markdown",
   "metadata": {},
   "source": [
    "9. พิมพ์ `dotnet run`"
   ]
  },
  {
   "cell_type": "code",
   "execution_count": null,
   "metadata": {
    "dotnet_interactive": {
     "language": "pwsh"
    },
    "polyglot_notebook": {
     "kernelName": "pwsh"
    }
   },
   "outputs": [
    {
     "name": "stdout",
     "output_type": "stream",
     "text": [
      "Hello, Rapee!\r\n"
     ]
    }
   ],
   "source": [
    "dotnet run"
   ]
  },
  {
   "cell_type": "markdown",
   "metadata": {},
   "source": [
    "> 10. สรุปผลการทดลอง\n",
    "เราสามารถใช้คำสั่ง PowerShell บน Windows ภายใน Notebook ได้ทันที ช่วยให้ทำงานหลากหลาย เช่น การจัดการไฟล์ สร้างโปรเจกต์ หรือรันสคริปต์ โดยไม่ต้องสลับเครื่องมือ สะดวกและรวดเร็ว\n"
   ]
  }
 ],
 "metadata": {
  "kernelspec": {
   "display_name": ".NET (PowerShell)",
   "language": "PowerShell",
   "name": ".net-pwsh"
  },
  "polyglot_notebook": {
   "kernelInfo": {
    "defaultKernelName": "pwsh",
    "items": [
     {
      "aliases": [],
      "languageName": "pwsh",
      "name": "pwsh"
     }
    ]
   }
  }
 },
 "nbformat": 4,
 "nbformat_minor": 2
}
